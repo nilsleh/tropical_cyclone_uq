{
 "cells": [
  {
   "cell_type": "code",
   "execution_count": 7,
   "metadata": {},
   "outputs": [],
   "source": [
    "from tropical_cyclone_dm import MyDigitalTyphoonAnalysisDataModule"
   ]
  },
  {
   "cell_type": "code",
   "execution_count": 9,
   "metadata": {},
   "outputs": [],
   "source": [
    "datamodule = MyDigitalTyphoonAnalysisDataModule(root=\"/p/project/hai_uqmethodbox/data/digital_typhoon\", min_feature_value={\"wind\": 34}, split_by=\"typhoon_id\")\n",
    "datamodule.setup(\"fit\")\n",
    "train_ds = datamodule.train_dataset\n",
    "val_ds = datamodule.val_dataset"
   ]
  },
  {
   "cell_type": "code",
   "execution_count": 13,
   "metadata": {},
   "outputs": [
    {
     "data": {
      "application/vnd.jupyter.widget-view+json": {
       "model_id": "b7bdd1a2e187422bb658be0e4917ba69",
       "version_major": 2,
       "version_minor": 0
      },
      "text/plain": [
       "interactive(children=(IntSlider(value=0, description='slider_value', max=16408), Output()), _dom_classes=('wid…"
      ]
     },
     "metadata": {},
     "output_type": "display_data"
    },
    {
     "data": {
      "text/plain": [
       "<function __main__.plot_image(slider_value)>"
      ]
     },
     "metadata": {},
     "output_type": "display_data"
    }
   ],
   "source": [
    "import ipywidgets as widgets\n",
    "from IPython.display import display\n",
    "\n",
    "# Define a function to plot an image given its index\n",
    "def plot_image(slider_value):\n",
    "    index = slider_value  # Scale down the slider value\n",
    "    sample = val_ds[index]\n",
    "    sample['image'] = sample.pop('input')\n",
    "    sample[\"label\"] = sample.pop(\"target\")\n",
    "    train_ds.plot(sample)\n",
    "\n",
    "# Create an interactive slider with a larger range\n",
    "slider = widgets.interact(plot_image, slider_value=widgets.IntSlider(min=0, max=(len(val_ds)-1), step=1, value=0))\n",
    "\n",
    "# Display the slider\n",
    "display(slider)"
   ]
  },
  {
   "cell_type": "code",
   "execution_count": null,
   "metadata": {},
   "outputs": [],
   "source": []
  }
 ],
 "metadata": {
  "kernelspec": {
   "display_name": "newUQBox",
   "language": "python",
   "name": "python3"
  },
  "language_info": {
   "codemirror_mode": {
    "name": "ipython",
    "version": 3
   },
   "file_extension": ".py",
   "mimetype": "text/x-python",
   "name": "python",
   "nbconvert_exporter": "python",
   "pygments_lexer": "ipython3",
   "version": "3.10.13"
  }
 },
 "nbformat": 4,
 "nbformat_minor": 2
}
